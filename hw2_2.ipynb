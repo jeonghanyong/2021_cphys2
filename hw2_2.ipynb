{
 "cells": [
  {
   "cell_type": "code",
   "execution_count": 9,
   "id": "69a6937d",
   "metadata": {},
   "outputs": [],
   "source": [
    "import matplotlib.pyplot as plt\n",
    "import numpy as np\n",
    "import sklearn\n",
    "\n",
    "from sklearn import datasets\n",
    "from sklearn.datasets import load_diabetes"
   ]
  },
  {
   "cell_type": "code",
   "execution_count": null,
   "id": "ef8d50b0",
   "metadata": {},
   "outputs": [],
   "source": [
    "diabetse=load_diabetes()\n",
    "print(diabetse.keys())\n",
    "print(diabetse.feature_names)\n",
    "aa=diabetse.data\n",
    "bb=diabetse.target\n",
    "\n",
    "nr,nc=aa.shape\n",
    "\n",
    "from keras import optimizers\n",
    "from keras.layers import Dense, Activation\n",
    "from keras.models import Sequential\n",
    "\n"
   ]
  },
  {
   "cell_type": "code",
   "execution_count": null,
   "id": "10f16c28",
   "metadata": {},
   "outputs": [],
   "source": [
    "nov=400\n",
    "x_train=aa[:nov,:]\n",
    "y_train=bb[:nov]\n",
    "\n",
    "model=Sequential()\n",
    "model.add(Dense(8,input_dim=nc,activation='relu'))\n",
    "model.add(Dense(4,activation='relu'))\n",
    "model.add(Dense(2,activation='relu'))\n",
    "model.add(Dense(1))\n",
    "\n",
    "model.compile(loss='mse',optimizer='adam')\n",
    "model.summary() \n",
    "\n"
   ]
  },
  {
   "cell_type": "code",
   "execution_count": null,
   "id": "ee1d3566",
   "metadata": {},
   "outputs": [],
   "source": [
    "H=model.fit(x_train,y_train,batch_size=20,epochs=500)\n",
    "\n",
    "\n",
    "\n",
    "plt.figure()\n",
    "plt.title('loss')\n",
    "plt.plot(H.history['loss'])"
   ]
  },
  {
   "cell_type": "code",
   "execution_count": null,
   "id": "a41a059e",
   "metadata": {},
   "outputs": [],
   "source": [
    "y_predict=model.predict(aa[:,:]) \n",
    "plt.figure()\n",
    "plt.title('disease progression one year after baseline')\n",
    "plt.plot(bb[:],'g',label='real') \n",
    "plt.plot(y_predict,'r',label='predict') \n",
    "plt.legend()\n",
    "plt.show()"
   ]
  },
  {
   "cell_type": "code",
   "execution_count": null,
   "id": "05464925",
   "metadata": {},
   "outputs": [],
   "source": []
  }
 ],
 "metadata": {
  "kernelspec": {
   "display_name": "Python 3",
   "language": "python",
   "name": "python3"
  },
  "language_info": {
   "codemirror_mode": {
    "name": "ipython",
    "version": 3
   },
   "file_extension": ".py",
   "mimetype": "text/x-python",
   "name": "python",
   "nbconvert_exporter": "python",
   "pygments_lexer": "ipython3",
   "version": "3.8.8"
  }
 },
 "nbformat": 4,
 "nbformat_minor": 5
}
